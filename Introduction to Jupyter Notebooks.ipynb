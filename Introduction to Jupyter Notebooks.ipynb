{
 "cells": [
  {
   "cell_type": "markdown",
   "metadata": {},
   "source": [
    "# This is a Jupyter Notebook"
   ]
  },
  {
   "cell_type": "markdown",
   "metadata": {},
   "source": [
    "Jupyter Notebooks (formerly known as iPython Notebooks) are an extremely useful way to make code interactive, interpretable and cross-platform compatible. The benefits are too numerous to go over fully here and this article does a better job (which you may wish to read in your spare time):\n",
    "\n",
    "https://unidata.github.io/online-python-training/introduction.html\n",
    "\n",
    "Here we're going to learn the basics of how to write and run code in a notebook.\n",
    "\n",
    "First let's talk about _cells_."
   ]
  },
  {
   "cell_type": "code",
   "execution_count": null,
   "metadata": {
    "collapsed": true
   },
   "outputs": [],
   "source": [
    "# this is a cell"
   ]
  },
  {
   "cell_type": "markdown",
   "metadata": {},
   "source": [
    "#### Cells\n",
    "\n",
    "Code is written in _cells_ that are run (or executed) in isolation and in any order you wish. The number at the side of a cell tells you the most recent time it was run so you can keep track if you like.\n",
    "\n",
    "The benefit of having code in cells is that you needn't re-compile and run the entire program everytime you make some small change and testing can be done as you go. This means you can treat a notebook as a super-powerful, customisable calculator.\n",
    "\n",
    "The selected cell is surrounded by a blue or green box. This indicates whether you are in command mode (blue) or edit mode (green). Command mode allows you to move between cells, add new cells or delete cells you don't need. Edit mode lets you change the code in that cell.\n",
    "\n",
    "To enter edit mode from command mode, press the Enter key. To move back to command mode from edit mode press the Escape key."
   ]
  },
  {
   "cell_type": "code",
   "execution_count": null,
   "metadata": {
    "collapsed": true
   },
   "outputs": [],
   "source": [
    "# Practice editing this cell. Press the enter key and then write your name here:"
   ]
  },
  {
   "cell_type": "markdown",
   "metadata": {},
   "source": [
    "To run the code entered in a cell press Shift+Enter (the Shift key and Enter key at the same time). Try running the 3 cells below."
   ]
  },
  {
   "cell_type": "code",
   "execution_count": null,
   "metadata": {
    "collapsed": true
   },
   "outputs": [],
   "source": [
    "import numpy"
   ]
  },
  {
   "cell_type": "code",
   "execution_count": null,
   "metadata": {
    "collapsed": true
   },
   "outputs": [],
   "source": [
    "def dice_rolls(dice, rolls):\n",
    "    \"\"\"\n",
    "    A function to experiment with rolling different numbers of 6-sided dice.\n",
    "    -- dice determines how many dice are used\n",
    "    -- rolls determines how many times they are rolled\n",
    "    eg dice_rolls(2,4) rolls 2 dice 4 times\n",
    "    Returns the results (sum) of the rolls\n",
    "    \"\"\"\n",
    "    results = []\n",
    "    for i in range(rolls):\n",
    "        total = 0\n",
    "        for j in range(dice):\n",
    "            total += numpy.random.randint(1,7)\n",
    "        results.append(total)\n",
    "    return results"
   ]
  },
  {
   "cell_type": "code",
   "execution_count": null,
   "metadata": {},
   "outputs": [],
   "source": [
    "dice_rolls(1, 6)"
   ]
  },
  {
   "cell_type": "markdown",
   "metadata": {},
   "source": [
    "First we imported the numpy package to provide us with useful mathematical functions, then we defined our function and in the last cell we executed the function. Now if we want to try some alternative rolls we need only change the third cell. Give this a go now. Why not try 6 dice for 10 rolls.\n",
    "\n",
    "This saves a lot of time as we needn't keep re-importing the numpy package or running through code that hasn't changed!"
   ]
  },
  {
   "cell_type": "markdown",
   "metadata": {},
   "source": [
    "#### Shortcuts\n",
    "When using notebooks it is advisable to learn some shortcuts. It is possible to operate a notebook without any shortcuts, by pressing buttons on the menu, but this wastes a lot of time and is best avoided. The two most commonly used shortcuts are for creating cells when in command mode:\n",
    "\n",
    "To make a cell above the current cell, press the 'a' key whilst in command mode (blue outline)\n",
    "\n",
    "To make a cell below the current cell, press the 'b' key whilst in command mode (blue outline)\n",
    "\n",
    "You can search a full list by pressing Cmd+Shift+P (or Ctrl+Shift+P on Windows or Linux)."
   ]
  },
  {
   "cell_type": "code",
   "execution_count": null,
   "metadata": {
    "collapsed": true
   },
   "outputs": [],
   "source": [
    "# Try creating new cells above and below this one."
   ]
  },
  {
   "cell_type": "markdown",
   "metadata": {},
   "source": [
    "This very quick tour of Jupyter Notebooks is intended only to get you started navigating notebooks. There is a whole world of interesting things being done with notebooks that can't be covered here, but you should have the basics now to let you explore on your own."
   ]
  }
 ],
 "metadata": {
  "kernelspec": {
   "display_name": "Python [conda env:kerastf35]",
   "language": "python",
   "name": "conda-env-kerastf35-py"
  },
  "language_info": {
   "codemirror_mode": {
    "name": "ipython",
    "version": 3
   },
   "file_extension": ".py",
   "mimetype": "text/x-python",
   "name": "python",
   "nbconvert_exporter": "python",
   "pygments_lexer": "ipython3",
   "version": "3.5.4"
  }
 },
 "nbformat": 4,
 "nbformat_minor": 2
}
