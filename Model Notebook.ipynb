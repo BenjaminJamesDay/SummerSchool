{
 "cells": [
  {
   "cell_type": "code",
   "execution_count": 14,
   "metadata": {},
   "outputs": [],
   "source": [
    "from keras.models import Model\n",
    "from keras.layers import Input, Dense, Flatten\n",
    "from keras.optimizers import SGD\n",
    "\n",
    "from data import load_data"
   ]
  },
  {
   "cell_type": "code",
   "execution_count": 15,
   "metadata": {
    "collapsed": true
   },
   "outputs": [],
   "source": [
    "# Data parameters\n",
    "classes = 10\n",
    "rows, cols = 28, 28\n",
    "input_shape = (rows,cols,1)"
   ]
  },
  {
   "cell_type": "code",
   "execution_count": 16,
   "metadata": {},
   "outputs": [],
   "source": [
    "# Load data\n",
    "(X_train, y_train, X_test, y_test) = load_data()"
   ]
  },
  {
   "cell_type": "code",
   "execution_count": 17,
   "metadata": {
    "collapsed": true
   },
   "outputs": [],
   "source": [
    "# Model parameters\n",
    "hiddens = 128\n",
    "batch_size = 128\n",
    "epochs = 20"
   ]
  },
  {
   "cell_type": "code",
   "execution_count": 18,
   "metadata": {},
   "outputs": [],
   "source": [
    "# Model architecture\n",
    "inp = Input(shape=input_shape)\n",
    "flat = Flatten()(inp)\n",
    "hidden_1 = Dense(hiddens, activation='sigmoid')(flat)\n",
    "hidden_2 = Dense(hiddens, activation='sigmoid')(hidden_1)\n",
    "out = Dense(classes, activation='softmax')(hidden_2)"
   ]
  },
  {
   "cell_type": "code",
   "execution_count": 19,
   "metadata": {},
   "outputs": [
    {
     "name": "stdout",
     "output_type": "stream",
     "text": [
      "_________________________________________________________________\n",
      "Layer (type)                 Output Shape              Param #   \n",
      "=================================================================\n",
      "input_4 (InputLayer)         (None, 28, 28, 1)         0         \n",
      "_________________________________________________________________\n",
      "flatten_4 (Flatten)          (None, 784)               0         \n",
      "_________________________________________________________________\n",
      "dense_6 (Dense)              (None, 128)               100480    \n",
      "_________________________________________________________________\n",
      "dense_7 (Dense)              (None, 128)               16512     \n",
      "_________________________________________________________________\n",
      "dense_8 (Dense)              (None, 10)                1290      \n",
      "=================================================================\n",
      "Total params: 118,282\n",
      "Trainable params: 118,282\n",
      "Non-trainable params: 0\n",
      "_________________________________________________________________\n",
      "None\n"
     ]
    }
   ],
   "source": [
    "model = Model(inputs=inp, outputs=out)\n",
    "\n",
    "print(model.summary())"
   ]
  },
  {
   "cell_type": "code",
   "execution_count": null,
   "metadata": {},
   "outputs": [
    {
     "name": "stdout",
     "output_type": "stream",
     "text": [
      "Train on 13000 samples, validate on 5724 samples\n",
      "Epoch 1/20\n",
      "13000/13000 [==============================] - 1s 55us/step - loss: 2.3254 - acc: 0.1637 - val_loss: 2.2796 - val_acc: 0.1955\n",
      "Epoch 2/20\n",
      "13000/13000 [==============================] - 0s 26us/step - loss: 2.2663 - acc: 0.2488 - val_loss: 2.2576 - val_acc: 0.2755\n",
      "Epoch 3/20\n",
      "13000/13000 [==============================] - 0s 25us/step - loss: 2.2424 - acc: 0.3576 - val_loss: 2.2312 - val_acc: 0.3775\n",
      "Epoch 4/20\n",
      "13000/13000 [==============================] - 0s 25us/step - loss: 2.2168 - acc: 0.4642 - val_loss: 2.2041 - val_acc: 0.5180\n",
      "Epoch 5/20\n",
      "13000/13000 [==============================] - 0s 26us/step - loss: 2.1896 - acc: 0.5336 - val_loss: 2.1766 - val_acc: 0.5162\n",
      "Epoch 6/20\n",
      "13000/13000 [==============================] - 0s 25us/step - loss: 2.1607 - acc: 0.5765 - val_loss: 2.1464 - val_acc: 0.6295\n",
      "Epoch 7/20\n",
      "13000/13000 [==============================] - 0s 26us/step - loss: 2.1292 - acc: 0.6343 - val_loss: 2.1125 - val_acc: 0.6771\n",
      "Epoch 8/20\n",
      "13000/13000 [==============================] - 0s 25us/step - loss: 2.0941 - acc: 0.6759 - val_loss: 2.0773 - val_acc: 0.6495\n",
      "Epoch 9/20\n",
      " 4864/13000 [==========>...................] - ETA: 0s - loss: 2.0658 - acc: 0.7005"
     ]
    }
   ],
   "source": [
    "model.compile(loss='categorical_crossentropy', optimizer=SGD(),\n",
    "              metrics=['accuracy'])\n",
    "\n",
    "model.fit(X_train, y_train, batch_size=batch_size, epochs=epochs,\n",
    "          verbose=1, validation_data=(X_test, y_test))\n",
    "\n",
    "score = model.evaluate(X_test, y_test, verbose=1)\n",
    "\n",
    "print(\"Accuracy:\", score[1])"
   ]
  },
  {
   "cell_type": "code",
   "execution_count": null,
   "metadata": {
    "collapsed": true
   },
   "outputs": [],
   "source": []
  }
 ],
 "metadata": {
  "kernelspec": {
   "display_name": "Python [conda env:kerastf35]",
   "language": "python",
   "name": "conda-env-kerastf35-py"
  },
  "language_info": {
   "codemirror_mode": {
    "name": "ipython",
    "version": 3
   },
   "file_extension": ".py",
   "mimetype": "text/x-python",
   "name": "python",
   "nbconvert_exporter": "python",
   "pygments_lexer": "ipython3",
   "version": "3.5.4"
  }
 },
 "nbformat": 4,
 "nbformat_minor": 2
}
