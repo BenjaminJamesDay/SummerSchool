{
 "cells": [
  {
   "cell_type": "markdown",
   "metadata": {},
   "source": [
    "## Model\n",
    "In this notebook I've written out the most basic version of the network from today's task. Try running the entire thing and seeing the network train then try to make some changes yourself."
   ]
  },
  {
   "cell_type": "code",
   "execution_count": null,
   "metadata": {
    "collapsed": true
   },
   "outputs": [],
   "source": [
    "from keras.models import Model\n",
    "from keras.layers import Input, Dense, Flatten\n",
    "from keras.optimizers import SGD\n",
    "from IPython.display import SVG\n",
    "from keras.utils.vis_utils import model_to_dot\n",
    "from keras.utils import np_utils\n",
    "\n",
    "from keras.datasets import mnist"
   ]
  },
  {
   "cell_type": "code",
   "execution_count": null,
   "metadata": {
    "collapsed": true
   },
   "outputs": [],
   "source": [
    "# Data parameters\n",
    "height, width, depth = 28, 28, 1\n",
    "classes = 10\n",
    "input_shape = (height,width,depth)"
   ]
  },
  {
   "cell_type": "code",
   "execution_count": null,
   "metadata": {
    "collapsed": true
   },
   "outputs": [],
   "source": [
    "# Load Dataset\n",
    "(X_train, y_train), (X_test, y_test) = mnist.load_data() # fetch MNIST data\n",
    "\n",
    "X_train = X_train.reshape(X_train.shape[0], height, width, depth)\n",
    "X_test = X_test.reshape(X_test.shape[0], height, width, depth)\n",
    "X_train = X_train.astype('float32')\n",
    "X_test = X_test.astype('float32')\n",
    "X_train /= 255 # Normalise data to [0, 1] range\n",
    "X_test /= 255 # Normalise data to [0, 1] range\n",
    "\n",
    "Y_train = np_utils.to_categorical(y_train, classes) # One-hot encode the labels\n",
    "Y_test = np_utils.to_categorical(y_test, classes) # One-hot encode the labels"
   ]
  },
  {
   "cell_type": "code",
   "execution_count": null,
   "metadata": {
    "collapsed": true
   },
   "outputs": [],
   "source": [
    "# Model parameters\n",
    "hiddens = 128\n",
    "batch_size = 128\n",
    "epochs = 20"
   ]
  },
  {
   "cell_type": "code",
   "execution_count": null,
   "metadata": {
    "collapsed": true
   },
   "outputs": [],
   "source": [
    "# Model architecture -- this is where you will make changes to the structure of the network itself\n",
    "inp = Input(shape=input_shape, name='Input')\n",
    "flat = Flatten(name = 'Flatten_input')(inp)\n",
    "hidden_1 = Dense(hiddens, activation='sigmoid', name='Hidden_layer_1')(flat)\n",
    "# perhaps you could add a layer here?\n",
    "hidden_2 = Dense(hiddens, activation='sigmoid', name='Hidden_layer_2')(hidden_1)\n",
    "out = Dense(classes, activation='softmax', name='Output_layer')(hidden_2)\n",
    "model = Model(inputs=inp, outputs=out)"
   ]
  },
  {
   "cell_type": "code",
   "execution_count": null,
   "metadata": {
    "collapsed": true
   },
   "outputs": [],
   "source": [
    "print(model.summary())"
   ]
  },
  {
   "cell_type": "code",
   "execution_count": null,
   "metadata": {
    "collapsed": true
   },
   "outputs": [],
   "source": [
    "model.compile(loss='categorical_crossentropy', optimizer=SGD(),\n",
    "              metrics=['accuracy'])\n",
    "\n",
    "model.fit(X_train, Y_train, batch_size=batch_size, epochs=epochs,\n",
    "          verbose=1, validation_split=0.1)\n",
    "\n",
    "score = model.evaluate(X_test, Y_test, verbose=1)\n",
    "\n",
    "print(\"Accuracy:\", score[1])"
   ]
  },
  {
   "cell_type": "code",
   "execution_count": null,
   "metadata": {
    "collapsed": true
   },
   "outputs": [],
   "source": []
  }
 ],
 "metadata": {
  "kernelspec": {
   "display_name": "Python [conda env:KerasGATPy2]",
   "language": "python",
   "name": "conda-env-KerasGATPy2-py"
  },
  "language_info": {
   "codemirror_mode": {
    "name": "ipython",
    "version": 2
   },
   "file_extension": ".py",
   "mimetype": "text/x-python",
   "name": "python",
   "nbconvert_exporter": "python",
   "pygments_lexer": "ipython2",
   "version": "2.7.14"
  }
 },
 "nbformat": 4,
 "nbformat_minor": 2
}
