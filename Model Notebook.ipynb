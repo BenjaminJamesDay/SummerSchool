{
 "cells": [
  {
   "cell_type": "markdown",
   "metadata": {},
   "source": [
    "## Model\n",
    "In this notebook I've written out the most basic version of the network from today's task. Try running the entire thing and seeing the network train then "
   ]
  },
  {
   "cell_type": "code",
   "execution_count": 25,
   "metadata": {
    "collapsed": true
   },
   "outputs": [],
   "source": [
    "from keras.models import Model\n",
    "from keras.layers import Input, Dense, Flatten\n",
    "from keras.optimizers import SGD\n",
    "from IPython.display import SVG\n",
    "from keras.utils.vis_utils import model_to_dot\n",
    "\n",
    "from data import load_data"
   ]
  },
  {
   "cell_type": "code",
   "execution_count": 15,
   "metadata": {
    "collapsed": true
   },
   "outputs": [],
   "source": [
    "# Data parameters\n",
    "classes = 10\n",
    "rows, cols = 28, 28\n",
    "input_shape = (rows,cols,1)"
   ]
  },
  {
   "cell_type": "code",
   "execution_count": 16,
   "metadata": {
    "collapsed": true
   },
   "outputs": [],
   "source": [
    "# Load data\n",
    "(X_train, y_train, X_test, y_test) = load_data()"
   ]
  },
  {
   "cell_type": "code",
   "execution_count": 17,
   "metadata": {
    "collapsed": true
   },
   "outputs": [],
   "source": [
    "# Model parameters\n",
    "hiddens = 128\n",
    "batch_size = 128\n",
    "epochs = 20"
   ]
  },
  {
   "cell_type": "code",
   "execution_count": 32,
   "metadata": {
    "collapsed": true
   },
   "outputs": [],
   "source": [
    "# Model architecture -- this is where you will make changes to the structure of the network itself\n",
    "inp = Input(shape=input_shape, name='Input')\n",
    "flat = Flatten(name = 'Flatten_input')(inp)\n",
    "hidden_1 = Dense(hiddens, activation='sigmoid', name='Hidden_layer_1')(flat)\n",
    "# perhaps you could add a layer here?\n",
    "hidden_2 = Dense(hiddens, activation='sigmoid', name='Hidden_layer_2')(hidden_1)\n",
    "out = Dense(classes, activation='softmax', name='Output_layer')(hidden_2)\n",
    "model = Model(inputs=inp, outputs=out)"
   ]
  },
  {
   "cell_type": "code",
   "execution_count": 33,
   "metadata": {},
   "outputs": [
    {
     "name": "stdout",
     "output_type": "stream",
     "text": [
      "_________________________________________________________________\n",
      "Layer (type)                 Output Shape              Param #   \n",
      "=================================================================\n",
      "Input (InputLayer)           (None, 28, 28, 1)         0         \n",
      "_________________________________________________________________\n",
      "Flatten_input (Flatten)      (None, 784)               0         \n",
      "_________________________________________________________________\n",
      "Hidden_layer_1 (Dense)       (None, 128)               100480    \n",
      "_________________________________________________________________\n",
      "Hidden_layer_2 (Dense)       (None, 128)               16512     \n",
      "_________________________________________________________________\n",
      "Output_layer (Dense)         (None, 10)                1290      \n",
      "=================================================================\n",
      "Total params: 118,282\n",
      "Trainable params: 118,282\n",
      "Non-trainable params: 0\n",
      "_________________________________________________________________\n",
      "None\n"
     ]
    }
   ],
   "source": [
    "print(model.summary())"
   ]
  },
  {
   "cell_type": "code",
   "execution_count": 34,
   "metadata": {},
   "outputs": [
    {
     "data": {
      "image/svg+xml": [
       "<svg height=\"337pt\" viewBox=\"0.00 0.00 156.57 337.00\" width=\"157pt\" xmlns=\"http://www.w3.org/2000/svg\" xmlns:xlink=\"http://www.w3.org/1999/xlink\">\n",
       "<g class=\"graph\" id=\"graph0\" transform=\"scale(1 1) rotate(0) translate(4 333)\">\n",
       "<title>G</title>\n",
       "<polygon fill=\"#ffffff\" points=\"-4,4 -4,-333 152.5693,-333 152.5693,4 -4,4\" stroke=\"transparent\"/>\n",
       "<!-- 5224421416 -->\n",
       "<g class=\"node\" id=\"node1\">\n",
       "<title>5224421416</title>\n",
       "<polygon fill=\"none\" points=\"16.7173,-292.5 16.7173,-328.5 131.8521,-328.5 131.8521,-292.5 16.7173,-292.5\" stroke=\"#000000\"/>\n",
       "<text fill=\"#000000\" font-family=\"Times,serif\" font-size=\"14.00\" text-anchor=\"middle\" x=\"74.2847\" y=\"-306.3\">Input: InputLayer</text>\n",
       "</g>\n",
       "<!-- 5224421360 -->\n",
       "<g class=\"node\" id=\"node2\">\n",
       "<title>5224421360</title>\n",
       "<polygon fill=\"none\" points=\"5.8174,-219.5 5.8174,-255.5 142.752,-255.5 142.752,-219.5 5.8174,-219.5\" stroke=\"#000000\"/>\n",
       "<text fill=\"#000000\" font-family=\"Times,serif\" font-size=\"14.00\" text-anchor=\"middle\" x=\"74.2847\" y=\"-233.3\">Flatten_input: Flatten</text>\n",
       "</g>\n",
       "<!-- 5224421416&#45;&gt;5224421360 -->\n",
       "<g class=\"edge\" id=\"edge1\">\n",
       "<title>5224421416-&gt;5224421360</title>\n",
       "<path d=\"M74.2847,-292.4551C74.2847,-284.3828 74.2847,-274.6764 74.2847,-265.6817\" fill=\"none\" stroke=\"#000000\"/>\n",
       "<polygon fill=\"#000000\" points=\"77.7848,-265.5903 74.2847,-255.5904 70.7848,-265.5904 77.7848,-265.5903\" stroke=\"#000000\"/>\n",
       "</g>\n",
       "<!-- 5221153032 -->\n",
       "<g class=\"node\" id=\"node3\">\n",
       "<title>5221153032</title>\n",
       "<polygon fill=\"none\" points=\"0,-146.5 0,-182.5 148.5693,-182.5 148.5693,-146.5 0,-146.5\" stroke=\"#000000\"/>\n",
       "<text fill=\"#000000\" font-family=\"Times,serif\" font-size=\"14.00\" text-anchor=\"middle\" x=\"74.2847\" y=\"-160.3\">Hidden_layer_1: Dense</text>\n",
       "</g>\n",
       "<!-- 5224421360&#45;&gt;5221153032 -->\n",
       "<g class=\"edge\" id=\"edge2\">\n",
       "<title>5224421360-&gt;5221153032</title>\n",
       "<path d=\"M74.2847,-219.4551C74.2847,-211.3828 74.2847,-201.6764 74.2847,-192.6817\" fill=\"none\" stroke=\"#000000\"/>\n",
       "<polygon fill=\"#000000\" points=\"77.7848,-192.5903 74.2847,-182.5904 70.7848,-192.5904 77.7848,-192.5903\" stroke=\"#000000\"/>\n",
       "</g>\n",
       "<!-- 5222866840 -->\n",
       "<g class=\"node\" id=\"node4\">\n",
       "<title>5222866840</title>\n",
       "<polygon fill=\"none\" points=\"0,-73.5 0,-109.5 148.5693,-109.5 148.5693,-73.5 0,-73.5\" stroke=\"#000000\"/>\n",
       "<text fill=\"#000000\" font-family=\"Times,serif\" font-size=\"14.00\" text-anchor=\"middle\" x=\"74.2847\" y=\"-87.3\">Hidden_layer_2: Dense</text>\n",
       "</g>\n",
       "<!-- 5221153032&#45;&gt;5222866840 -->\n",
       "<g class=\"edge\" id=\"edge3\">\n",
       "<title>5221153032-&gt;5222866840</title>\n",
       "<path d=\"M74.2847,-146.4551C74.2847,-138.3828 74.2847,-128.6764 74.2847,-119.6817\" fill=\"none\" stroke=\"#000000\"/>\n",
       "<polygon fill=\"#000000\" points=\"77.7848,-119.5903 74.2847,-109.5904 70.7848,-119.5904 77.7848,-119.5903\" stroke=\"#000000\"/>\n",
       "</g>\n",
       "<!-- 5224642264 -->\n",
       "<g class=\"node\" id=\"node5\">\n",
       "<title>5224642264</title>\n",
       "<polygon fill=\"none\" points=\"8.1621,-.5 8.1621,-36.5 140.4072,-36.5 140.4072,-.5 8.1621,-.5\" stroke=\"#000000\"/>\n",
       "<text fill=\"#000000\" font-family=\"Times,serif\" font-size=\"14.00\" text-anchor=\"middle\" x=\"74.2847\" y=\"-14.3\">Output_layer: Dense</text>\n",
       "</g>\n",
       "<!-- 5222866840&#45;&gt;5224642264 -->\n",
       "<g class=\"edge\" id=\"edge4\">\n",
       "<title>5222866840-&gt;5224642264</title>\n",
       "<path d=\"M74.2847,-73.4551C74.2847,-65.3828 74.2847,-55.6764 74.2847,-46.6817\" fill=\"none\" stroke=\"#000000\"/>\n",
       "<polygon fill=\"#000000\" points=\"77.7848,-46.5903 74.2847,-36.5904 70.7848,-46.5904 77.7848,-46.5903\" stroke=\"#000000\"/>\n",
       "</g>\n",
       "</g>\n",
       "</svg>"
      ],
      "text/plain": [
       "<IPython.core.display.SVG object>"
      ]
     },
     "execution_count": 34,
     "metadata": {},
     "output_type": "execute_result"
    }
   ],
   "source": [
    "SVG(model_to_dot(model).create(prog='dot', format='svg'))"
   ]
  },
  {
   "cell_type": "code",
   "execution_count": 24,
   "metadata": {},
   "outputs": [
    {
     "name": "stdout",
     "output_type": "stream",
     "text": [
      "Train on 13000 samples, validate on 5724 samples\n",
      "Epoch 1/20\n",
      "13000/13000 [==============================] - 1s 41us/step - loss: 2.3392 - acc: 0.1906 - val_loss: 2.2625 - val_acc: 0.2483\n",
      "Epoch 2/20\n",
      "13000/13000 [==============================] - 0s 25us/step - loss: 2.2475 - acc: 0.3442 - val_loss: 2.2354 - val_acc: 0.3877\n",
      "Epoch 3/20\n",
      "13000/13000 [==============================] - 0s 25us/step - loss: 2.2201 - acc: 0.4401 - val_loss: 2.2067 - val_acc: 0.5561\n",
      "Epoch 4/20\n",
      "13000/13000 [==============================] - 0s 25us/step - loss: 2.1920 - acc: 0.5600 - val_loss: 2.1775 - val_acc: 0.5755\n",
      "Epoch 5/20\n",
      "13000/13000 [==============================] - 0s 25us/step - loss: 2.1614 - acc: 0.6246 - val_loss: 2.1460 - val_acc: 0.6268\n",
      "Epoch 6/20\n",
      "13000/13000 [==============================] - 0s 26us/step - loss: 2.1285 - acc: 0.6632 - val_loss: 2.1110 - val_acc: 0.6801\n",
      "Epoch 7/20\n",
      "13000/13000 [==============================] - 0s 25us/step - loss: 2.0926 - acc: 0.6958 - val_loss: 2.0726 - val_acc: 0.7096\n",
      "Epoch 8/20\n",
      "13000/13000 [==============================] - 0s 25us/step - loss: 2.0531 - acc: 0.7144 - val_loss: 2.0313 - val_acc: 0.7271\n",
      "Epoch 9/20\n",
      "13000/13000 [==============================] - 0s 25us/step - loss: 2.0102 - acc: 0.7359 - val_loss: 1.9864 - val_acc: 0.7350\n",
      "Epoch 10/20\n",
      "13000/13000 [==============================] - 0s 26us/step - loss: 1.9633 - acc: 0.7317 - val_loss: 1.9365 - val_acc: 0.7692\n",
      "Epoch 11/20\n",
      "13000/13000 [==============================] - 0s 26us/step - loss: 1.9129 - acc: 0.7613 - val_loss: 1.8851 - val_acc: 0.7572\n",
      "Epoch 12/20\n",
      "13000/13000 [==============================] - 0s 25us/step - loss: 1.8593 - acc: 0.7639 - val_loss: 1.8288 - val_acc: 0.7598\n",
      "Epoch 13/20\n",
      "13000/13000 [==============================] - 0s 26us/step - loss: 1.8028 - acc: 0.7742 - val_loss: 1.7716 - val_acc: 0.7472\n",
      "Epoch 14/20\n",
      "13000/13000 [==============================] - 0s 25us/step - loss: 1.7443 - acc: 0.7723 - val_loss: 1.7124 - val_acc: 0.7727\n",
      "Epoch 15/20\n",
      "13000/13000 [==============================] - 0s 26us/step - loss: 1.6849 - acc: 0.7800 - val_loss: 1.6513 - val_acc: 0.7809\n",
      "Epoch 16/20\n",
      "13000/13000 [==============================] - 0s 27us/step - loss: 1.6248 - acc: 0.7882 - val_loss: 1.5909 - val_acc: 0.7760\n",
      "Epoch 17/20\n",
      "13000/13000 [==============================] - 0s 25us/step - loss: 1.5647 - acc: 0.7898 - val_loss: 1.5315 - val_acc: 0.7919\n",
      "Epoch 18/20\n",
      "13000/13000 [==============================] - 0s 26us/step - loss: 1.5062 - acc: 0.7992 - val_loss: 1.4727 - val_acc: 0.7809\n",
      "Epoch 19/20\n",
      "13000/13000 [==============================] - 0s 25us/step - loss: 1.4482 - acc: 0.7975 - val_loss: 1.4167 - val_acc: 0.7919\n",
      "Epoch 20/20\n",
      "13000/13000 [==============================] - 0s 25us/step - loss: 1.3926 - acc: 0.8058 - val_loss: 1.3615 - val_acc: 0.7888\n",
      "5724/5724 [==============================] - 0s 28us/step\n",
      "Accuracy: 0.788784067003\n"
     ]
    }
   ],
   "source": [
    "model.compile(loss='categorical_crossentropy', optimizer=SGD(),\n",
    "              metrics=['accuracy'])\n",
    "\n",
    "model.fit(X_train, y_train, batch_size=batch_size, epochs=epochs,\n",
    "          verbose=1, validation_data=(X_test, y_test))\n",
    "\n",
    "score = model.evaluate(X_test, y_test, verbose=1)\n",
    "\n",
    "print(\"Accuracy:\", score[1])"
   ]
  }
 ],
 "metadata": {
  "kernelspec": {
   "display_name": "Python [conda env:kerastf35]",
   "language": "python",
   "name": "conda-env-kerastf35-py"
  },
  "language_info": {
   "codemirror_mode": {
    "name": "ipython",
    "version": 3
   },
   "file_extension": ".py",
   "mimetype": "text/x-python",
   "name": "python",
   "nbconvert_exporter": "python",
   "pygments_lexer": "ipython3",
   "version": "3.5.4"
  }
 },
 "nbformat": 4,
 "nbformat_minor": 2
}
